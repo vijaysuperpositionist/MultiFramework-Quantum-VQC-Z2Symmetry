{
 "cells": [
  {
   "cell_type": "code",
   "execution_count": 1,
   "id": "790cd539-1b75-4a55-a535-f0be39617f1c",
   "metadata": {},
   "outputs": [],
   "source": [
    "import pennylane as qml\n",
    "from pennylane import numpy as np"
   ]
  },
  {
   "cell_type": "code",
   "execution_count": 2,
   "id": "e6ce3472-c805-45a1-ba2d-06e3795f14b7",
   "metadata": {},
   "outputs": [],
   "source": [
    "# Define the quantum device\n",
    "dev = qml.device('default.qubit', wires=2)"
   ]
  },
  {
   "cell_type": "code",
   "execution_count": 3,
   "id": "387d52f6-4d2c-48dd-9999-6f8d84485403",
   "metadata": {},
   "outputs": [],
   "source": [
    "# Define the variational quantum circuit\n",
    "@qml.qnode(dev)\n",
    "def circuit(params):\n",
    "    qml.RX(params[0], wires=0)\n",
    "    qml.RY(params[1], wires=1)\n",
    "    qml.CNOT(wires=[0, 1])\n",
    "    return qml.expval(qml.PauliZ(0))"
   ]
  },
  {
   "cell_type": "code",
   "execution_count": 4,
   "id": "e0ed12db-2998-47ee-b1f4-1c176ca17b04",
   "metadata": {},
   "outputs": [],
   "source": [
    "# Define the cost function\n",
    "def cost(params, target):\n",
    "    prediction = circuit(params)\n",
    "    return (prediction - target)**2"
   ]
  },
  {
   "cell_type": "code",
   "execution_count": 5,
   "id": "6b967398-7dec-4139-9007-d0247ff682ba",
   "metadata": {},
   "outputs": [],
   "source": [
    "# Initialize parameters\n",
    "params = np.random.rand(2, requires_grad=True)"
   ]
  },
  {
   "cell_type": "code",
   "execution_count": 6,
   "id": "93ed17f0-f8cb-4e18-bf47-a0e3cc45b5f5",
   "metadata": {},
   "outputs": [],
   "source": [
    "# Optimize parameters\n",
    "opt = qml.GradientDescentOptimizer(stepsize=0.1)\n",
    "for i in range(100):\n",
    "    params = opt.step(lambda v: cost(v, target=1.0), params)"
   ]
  },
  {
   "cell_type": "code",
   "execution_count": 7,
   "id": "73cdb868-158c-447f-9ade-9b7e111e2e31",
   "metadata": {},
   "outputs": [
    {
     "name": "stdout",
     "output_type": "stream",
     "text": [
      "Step 0: Cost = 0.000002\n",
      "Step 10: Cost = 0.000002\n",
      "Step 20: Cost = 0.000002\n",
      "Step 30: Cost = 0.000002\n",
      "Step 40: Cost = 0.000002\n",
      "Step 50: Cost = 0.000002\n",
      "Step 60: Cost = 0.000002\n",
      "Step 70: Cost = 0.000002\n",
      "Step 80: Cost = 0.000002\n",
      "Step 90: Cost = 0.000002\n",
      "Step 99: Cost = 0.000002\n"
     ]
    }
   ],
   "source": [
    "# Optimize parameters\n",
    "opt = qml.GradientDescentOptimizer(stepsize=0.1)\n",
    "cost_history = []\n",
    "\n",
    "for i in range(100):\n",
    "    params = opt.step(lambda v: cost(v, target=1.0), params)\n",
    "    current_cost = cost(params, target=1.0)\n",
    "    cost_history.append(current_cost)\n",
    "\n",
    "    if i % 10 == 0 or i == 99:\n",
    "        print(f\"Step {i}: Cost = {current_cost:.6f}\")"
   ]
  },
  {
   "cell_type": "code",
   "execution_count": 8,
   "id": "4f840522-6d16-4b0a-b7f2-a5e47c2c8b43",
   "metadata": {},
   "outputs": [
    {
     "data": {
      "image/png": "[encoded data removed]",
      "text/plain": [
       "<Figure size 640x480 with 1 Axes>"
      ]
     },
     "metadata": {},
     "output_type": "display_data"
    }
   ],
   "source": [
    "import matplotlib.pyplot as plt\n",
    "\n",
    "plt.plot(cost_history)\n",
    "plt.xlabel(\"Training Step\")\n",
    "plt.ylabel(\"Cost\")\n",
    "plt.title(\"Cost Function Convergence\")\n",
    "plt.grid(True)\n",
    "plt.show()"
   ]
  },
  {
   "cell_type": "code",
   "execution_count": 9,
   "id": "7830c85e-7a14-4539-81f2-978a3f60331c",
   "metadata": {},
   "outputs": [
    {
     "name": "stdout",
     "output_type": "stream",
     "text": [
      "Step 0: 0.000002\n",
      "Step 10: 0.000002\n",
      "Step 20: 0.000002\n",
      "Step 30: 0.000002\n",
      "Step 40: 0.000002\n",
      "Step 50: 0.000002\n",
      "Step 60: 0.000002\n",
      "Step 70: 0.000002\n",
      "Step 80: 0.000002\n",
      "Step 90: 0.000002\n"
     ]
    }
   ],
   "source": [
    "for i, c in enumerate(cost_history):\n",
    "    if i % 10 == 0:\n",
    "        print(f\"Step {i}: {c:.6f}\")"
   ]
  },
  {
   "cell_type": "code",
   "execution_count": 10,
   "id": "d5361956-5d96-4536-987b-be722fdce713",
   "metadata": {},
   "outputs": [],
   "source": [
    "#Fake data set toy (hamiltonians)"
   ]
  },
  {
   "cell_type": "code",
   "execution_count": 11,
   "id": "787db4d3-641b-4359-815e-5e6ac5d7fdfa",
   "metadata": {},
   "outputs": [],
   "source": [
    "#Step 1 We are initiating two Eigen Operators and they are Hermitian\n",
    "H1 = np.array([[1, 0], [0, -1]])  # Pauli Z — symmetric\n",
    "H2 = np.array([[0, 1], [1, 0]])   # Pauli X — not symmetric in same basis"
   ]
  },
  {
   "cell_type": "code",
   "execution_count": 12,
   "id": "0f272b8b-4ebc-4bdf-a954-3bf6642a0c9e",
   "metadata": {},
   "outputs": [],
   "source": [
    "#Assign label =1  to symmetric ones and label = 0 to non symmetric ones"
   ]
  },
  {
   "cell_type": "code",
   "execution_count": 13,
   "id": "6cfeb860-8cd8-4635-af22-b4340607f603",
   "metadata": {},
   "outputs": [],
   "source": [
    "# --- Step 2: Define Toy Dataset of Encoded Hamiltonians ---\n",
    "# These are *not* actual full Hamiltonians, but features derived from them\n",
    "# For simplicity, we simulate symmetry through structured feature patterns\n",
    "\n",
    "# Format: (features, label) where label 1 = symmetric, 0 = non-symmetric\n",
    "dataset = [\n",
    "    (np.array([0.0, 0.0]), 1),        # Symmetric (same angle = balanced system)\n",
    "    (np.array([np.pi, np.pi]), 1),    # Symmetric (rotated but matching)\n",
    "    (np.array([0.5, 1.5]), 0),        # Asymmetric\n",
    "    (np.array([1.0, 0.2]), 0),        # Asymmetric\n",
    "    (np.array([np.pi/2, np.pi/2]), 1),# Symmetric\n",
    "    (np.array([0.1, 0.9]), 0),        # Asymmetric\n",
    "]"
   ]
  },
  {
   "cell_type": "code",
   "execution_count": 14,
   "id": "6239ad4c-6c66-4df0-968f-e6e706bd6840",
   "metadata": {},
   "outputs": [],
   "source": [
    "# Step 3: Set up PennyLane device\n",
    "# ---------------------------------------------------------------\n",
    "dev = qml.device(\"default.qubit\", wires=2)"
   ]
  },
  {
   "cell_type": "code",
   "execution_count": 15,
   "id": "dd274a29-f093-41eb-9cbd-cadec59dd867",
   "metadata": {},
   "outputs": [],
   "source": [
    "# Step 4: Define variational circuit with feature encoding\n",
    "# ---------------------------------------------------------------\n",
    "@qml.qnode(dev)\n",
    "def circuit(x, weights):\n",
    "    # Feature encoding\n",
    "    qml.RY(x[0], wires=0)\n",
    "    qml.RY(x[1], wires=1)\n",
    "\n",
    "    # Optional entanglement\n",
    "    qml.CNOT(wires=[0, 1])\n",
    "\n",
    "    # Variational layer (trainable)\n",
    "    qml.Rot(*weights[0], wires=0)\n",
    "    qml.Rot(*weights[1], wires=1)\n",
    "\n",
    "    # Output expectation value from one qubit\n",
    "    return qml.expval(qml.PauliZ(0))"
   ]
  },
  {
   "cell_type": "code",
   "execution_count": 16,
   "id": "e6d62bbe-c563-468b-93f2-da751295acf7",
   "metadata": {},
   "outputs": [],
   "source": [
    "# ---------------------------------------------------------------\n",
    "# Step 5: Define cost function (mean squared error)\n",
    "# ---------------------------------------------------------------\n",
    "def cost(weights, x, y):\n",
    "    prediction = circuit(x, weights)\n",
    "    return (prediction - y) ** 2"
   ]
  },
  {
   "cell_type": "code",
   "execution_count": 17,
   "id": "d6f83002-4b93-4654-b6ce-40a783c49354",
   "metadata": {},
   "outputs": [],
   "source": [
    "# ---------------------------------------------------------------\n",
    "# Step 6: Initialize weights and optimizer\n",
    "# ---------------------------------------------------------------\n",
    "weights = np.random.uniform(0, 2 * np.pi, size=(2, 3), requires_grad=True)\n",
    "opt = qml.GradientDescentOptimizer(stepsize=0.4)\n",
    "\n",
    "epochs = 20\n",
    "loss_history = []"
   ]
  },
  {
   "cell_type": "code",
   "execution_count": 18,
   "id": "c1c10a47-c713-474b-b647-a70f6ff3b48b",
   "metadata": {},
   "outputs": [
    {
     "name": "stdout",
     "output_type": "stream",
     "text": [
      "Epoch 1: Avg Cost = 0.092940\n",
      "Epoch 2: Avg Cost = 0.121609\n",
      "Epoch 3: Avg Cost = 0.123151\n",
      "Epoch 4: Avg Cost = 0.123004\n",
      "Epoch 5: Avg Cost = 0.122838\n",
      "Epoch 6: Avg Cost = 0.122697\n",
      "Epoch 7: Avg Cost = 0.122576\n",
      "Epoch 8: Avg Cost = 0.122470\n",
      "Epoch 9: Avg Cost = 0.122378\n",
      "Epoch 10: Avg Cost = 0.122296\n",
      "Epoch 11: Avg Cost = 0.122224\n",
      "Epoch 12: Avg Cost = 0.122159\n",
      "Epoch 13: Avg Cost = 0.122101\n",
      "Epoch 14: Avg Cost = 0.122048\n",
      "Epoch 15: Avg Cost = 0.122000\n",
      "Epoch 16: Avg Cost = 0.121956\n",
      "Epoch 17: Avg Cost = 0.121916\n",
      "Epoch 18: Avg Cost = 0.121879\n",
      "Epoch 19: Avg Cost = 0.121845\n",
      "Epoch 20: Avg Cost = 0.121814\n"
     ]
    }
   ],
   "source": [
    " # Step 7: Training loop\n",
    "# ---------------------------------------------------------------\n",
    "for epoch in range(epochs):\n",
    "    total_loss = 0\n",
    "    for x, y in dataset:\n",
    "        weights = opt.step(lambda w: cost(w, x, y), weights)\n",
    "        total_loss += cost(weights, x, y)\n",
    "    avg_loss = total_loss / len(dataset)\n",
    "    loss_history.append(avg_loss)\n",
    "    print(f\"Epoch {epoch+1}: Avg Cost = {avg_loss:.6f}\")"
   ]
  },
  {
   "cell_type": "code",
   "execution_count": 19,
   "id": "24c7965a-07bd-4d18-b6f6-666b70941a70",
   "metadata": {},
   "outputs": [
    {
     "data": {
      "image/png": "[encoded data removed]",
      "text/plain": [
       "<Figure size 640x480 with 1 Axes>"
      ]
     },
     "metadata": {},
     "output_type": "display_data"
    }
   ],
   "source": [
    "# Step 8: Plot loss over epochs\n",
    "# ---------------------------------------------------------------\n",
    "plt.plot(loss_history)\n",
    "plt.xlabel(\"Epoch\")\n",
    "plt.ylabel(\"Average Cost\")\n",
    "plt.title(\"VQC Training Loss (Symmetry Classifier)\")\n",
    "plt.grid(True)\n",
    "plt.show()"
   ]
  },
  {
   "cell_type": "code",
   "execution_count": 20,
   "id": "f00b2ff6-0906-4b0d-82e2-6b23f0ce0349",
   "metadata": {},
   "outputs": [
    {
     "name": "stdout",
     "output_type": "stream",
     "text": [
      "\n",
      "Predictions (PauliZ expectation > 0 => symmetric [1], < 0 => asymmetric [0]):\n",
      "x = [0. 0.], Label = 1, Prediction = -0.144, Classified as: 0\n",
      "x = [3.14159265 3.14159265], Label = 1, Prediction = 0.144, Classified as: 1\n",
      "x = [0.5 1.5], Label = 0, Prediction = 0.333, Classified as: 1\n",
      "x = [1.  0.2], Label = 0, Prediction = 0.083, Classified as: 1\n",
      "x = [1.57079633 1.57079633], Label = 1, Prediction = 0.962, Classified as: 1\n",
      "x = [0.1 0.9], Label = 0, Prediction = -0.068, Classified as: 0\n"
     ]
    }
   ],
   "source": [
    "# Step 9: Final predictions on dataset\n",
    "# ---------------------------------------------------------------\n",
    "print(\"\\nPredictions (PauliZ expectation > 0 => symmetric [1], < 0 => asymmetric [0]):\")\n",
    "for x, y in dataset:\n",
    "    pred = circuit(x, weights)\n",
    "    pred_class = 1 if pred > 0 else 0\n",
    "    print(f\"x = {x}, Label = {y}, Prediction = {pred:.3f}, Classified as: {pred_class}\")"
   ]
  },
  {
   "cell_type": "code",
   "execution_count": 21,
   "id": "aa650297-2c29-446d-8498-92aa9d5199c6",
   "metadata": {},
   "outputs": [],
   "source": [
    "# Compare with test accuracy or AUC"
   ]
  },
  {
   "cell_type": "code",
   "execution_count": 22,
   "id": "a9a27bd0-c168-41d7-82e4-35a21ee93489",
   "metadata": {},
   "outputs": [],
   "source": [
    "# Example fix assuming you're using sklearn or custom split\n",
    "# pip install scikit-learn\n",
    "from sklearn.model_selection import train_test_split\n",
    "import numpy as np\n",
    "\n",
    "# Split your dataset into input and label arrays\n",
    "data = np.array([x for x, y in dataset])\n",
    "labels = np.array([y for x, y in dataset])\n",
    "\n",
    "# Now perform the train/test split\n",
    "X_train, X_test, y_train, y_test = train_test_split(\n",
    "    data, labels, test_size=0.2, random_state=42, stratify=labels\n",
    ")"
   ]
  },
  {
   "cell_type": "code",
   "execution_count": 23,
   "id": "c338ff7c-5204-45a9-8692-36255e64c7d6",
   "metadata": {},
   "outputs": [
    {
     "name": "stdout",
     "output_type": "stream",
     "text": [
      "Full dataset class balance: Counter({1: 3, 0: 3})\n",
      "Train class balance: Counter({0: 2, 1: 2})\n",
      "Test class balance: Counter({1: 1, 0: 1})\n"
     ]
    }
   ],
   "source": [
    "from collections import Counter\n",
    "print(\"Full dataset class balance:\", Counter(labels))\n",
    "print(\"Train class balance:\", Counter(y_train))\n",
    "print(\"Test class balance:\", Counter(y_test))"
   ]
  },
  {
   "cell_type": "code",
   "execution_count": 24,
   "id": "9593bb69-4af5-4ade-beae-0e5c1ceb3e6b",
   "metadata": {},
   "outputs": [
    {
     "name": "stdout",
     "output_type": "stream",
     "text": [
      "\n",
      "✅ Test Accuracy: 0.50\n"
     ]
    }
   ],
   "source": [
    "#Now Evaluate our trained circuit on Test Set\n",
    "#Lets evaluate our existing circuit (x,weights) on x_test:\n",
    "predictions = []\n",
    "for x in X_test:\n",
    "    output = circuit(x, weights)\n",
    "    pred_class = 1 if output > 0 else 0\n",
    "    predictions.append(pred_class)\n",
    "\n",
    "# Accuracy\n",
    "from sklearn.metrics import accuracy_score\n",
    "test_accuracy = accuracy_score(y_test, predictions)\n",
    "print(f\"\\n✅ Test Accuracy: {test_accuracy:.2f}\")"
   ]
  },
  {
   "cell_type": "code",
   "execution_count": 25,
   "id": "f800a9f1-e313-411d-82e0-6524536074c7",
   "metadata": {},
   "outputs": [
    {
     "name": "stdout",
     "output_type": "stream",
     "text": [
      "📈 Test AUC Score: 0.00\n"
     ]
    }
   ],
   "source": [
    "# (Optional) AUC Score for Binary Classification\n",
    "# Let's measure the model confidence as well\n",
    "from sklearn.metrics import roc_auc_score\n",
    "\n",
    "# Get raw output values for AUC\n",
    "probs = [circuit(x, weights) for x in X_test]\n",
    "auc_score = roc_auc_score(y_test, probs)\n",
    "print(f\"📈 Test AUC Score: {auc_score:.2f}\")"
   ]
  },
  {
   "cell_type": "code",
   "execution_count": 26,
   "id": "5cd74a2c-35dc-45e8-9dc2-cdaee337f12f",
   "metadata": {},
   "outputs": [
    {
     "name": "stdout",
     "output_type": "stream",
     "text": [
      "Full dataset class balance: Counter({1: 3, 0: 3})\n",
      "Train class balance: Counter({0: 2, 1: 2})\n",
      "Test class balance: Counter({1: 1, 0: 1})\n"
     ]
    }
   ],
   "source": [
    "print(\"Full dataset class balance:\", Counter(labels))\n",
    "print(\"Train class balance:\", Counter(y_train))\n",
    "print(\"Test class balance:\", Counter(y_test))"
   ]
  },
  {
   "cell_type": "markdown",
   "id": "dcd51f47-a379-4331-aa88-71e053e3f734",
   "metadata": {},
   "source": [
    "we're now fully aware of the class balance, and with stratify=labels, your test set is properly constructed."
   ]
  },
  {
   "cell_type": "markdown",
   "id": "2b26ad5d-51b4-4165-8a48-38827dec5811",
   "metadata": {},
   "source": [
    "Light regularization to improvise generalizationL2 Weight regularization"
   ]
  },
  {
   "cell_type": "code",
   "execution_count": 27,
   "id": "17497eaa-56b1-41f0-8d68-ab0f2823163b",
   "metadata": {},
   "outputs": [],
   "source": [
    "#Add a small penalty to your cost function to discourage larger weights (simpler circuits generalize better)\n",
    "def regularized_cost(weights):\n",
    "    base_loss = cost(weights)\n",
    "    l2_penalty = 0.01 * np.sum(np.square(weights))  # lambda = 0.01\n",
    "    return base_loss + l2_penalty"
   ]
  },
  {
   "cell_type": "markdown",
   "id": "de0cdaf4-f976-4547-9203-1fbc12574763",
   "metadata": {},
   "source": [
    "#Switch to noisy simulator "
   ]
  },
  {
   "cell_type": "code",
   "execution_count": 28,
   "id": "df2d95b3-b3ce-41dc-b2ce-8ba595d60ec3",
   "metadata": {},
   "outputs": [],
   "source": [
    "#Mimic real hardware decoherence - forces your circuit to learn noise-robust patterns\n",
    "dev = qml.device(\"default.mixed\", wires=2)  # instead of default.qubit"
   ]
  },
  {
   "cell_type": "markdown",
   "id": "969ff592-3c70-4371-9115-76b9f199cb45",
   "metadata": {},
   "source": [
    "Circuit simmplification"
   ]
  },
  {
   "cell_type": "code",
   "execution_count": 29,
   "id": "e0f03fa6-19f2-40ac-a4f2-8f60a8a2fa5f",
   "metadata": {},
   "outputs": [],
   "source": [
    "#Over parameterized circuits overfit easily on small data sets. If we are using say 3 entagnling layers --try cutting down to 1 or 2"
   ]
  },
  {
   "cell_type": "code",
   "execution_count": 30,
   "id": "57fc06e3-d565-4dd2-a3c6-0e8903d642b5",
   "metadata": {},
   "outputs": [],
   "source": [
    "def ansatz(params, x):\n",
    "    # Use fewer rotation and entanglement layers\n",
    "    qml.RY(x[0], wires=0)\n",
    "    qml.RY(x[1], wires=1)\n",
    "    qml.CNOT(wires=[0,1])\n",
    "    qml.RY(params[0], wires=0)\n",
    "    qml.RY(params[1], wires=1)"
   ]
  },
  {
   "cell_type": "markdown",
   "id": "205c9043-7170-42a3-a1bf-f4c833d5a908",
   "metadata": {},
   "source": [
    "#Optional : Add label smoothing"
   ]
  },
  {
   "cell_type": "code",
   "execution_count": 31,
   "id": "555c17f9-684a-40af-a2ef-47f4d40e5862",
   "metadata": {},
   "outputs": [],
   "source": [
    "#Instead of labeling samples as 0 or 1  use soft targets like 0.1 or 0.9 , avoids confidence and sharp decision boundaries"
   ]
  },
  {
   "cell_type": "code",
   "execution_count": 32,
   "id": "e8411334-59db-4288-99d9-e897c72942f3",
   "metadata": {},
   "outputs": [],
   "source": [
    "smoothed_labels = 0.9 if y == 1 else 0.1"
   ]
  },
  {
   "cell_type": "markdown",
   "id": "061a6199-217f-4ea8-8d4a-2aff8fd2e078",
   "metadata": {},
   "source": [
    "Here’s your plug-and-play train_model_regularized() function — integrates:\n",
    "\n",
    "✅ Noisy device\n",
    "\n",
    "✅ L2 regularization\n",
    "\n",
    "✅ Validation loss tracking"
   ]
  },
  {
   "cell_type": "code",
   "execution_count": 33,
   "id": "239ed0eb-1804-414a-b36d-befd2e5dd8c1",
   "metadata": {},
   "outputs": [],
   "source": [
    "import pennylane as qml\n",
    "import numpy as np\n",
    "import matplotlib.pyplot as plt\n",
    "import csv\n",
    "from sklearn.model_selection import train_test_split"
   ]
  },
  {
   "cell_type": "code",
   "execution_count": null,
   "id": "7b81ce46-6db9-4a43-86b6-245923c42fe9",
   "metadata": {},
   "outputs": [],
   "source": []
  },
  {
   "cell_type": "code",
   "execution_count": 34,
   "id": "e17ac30b-2cdf-4480-a510-fe31f784bf45",
   "metadata": {},
   "outputs": [],
   "source": [
    "# Define noisy simulator\n",
    "# Noisy device\n",
    "dev = qml.device(\"default.mixed\", wires=2)\n",
    "\n",
    "@qml.qnode(dev)\n",
    "def circuit(x, weights):\n",
    "    qml.RY(x[0], wires=0)\n",
    "    qml.RY(x[1], wires=1)\n",
    "    qml.CNOT(wires=[0,1])\n",
    "    qml.RY(weights[0], wires=0)\n",
    "    qml.RY(weights[1], wires=1)\n",
    "    return qml.expval(qml.PauliZ(0))\n",
    "#L2 Light regularized cost\n",
    "def regularized_cost(weights, data, labels, lambda_l2=0.01):\n",
    "    predictions = qml.numpy.array([circuit(x, weights) for x in data])\n",
    "    soft_labels = qml.numpy.where(labels == 1, 0.9, 0.1)\n",
    "    loss = qml.numpy.mean((predictions - soft_labels) ** 2)\n",
    "    l2_term = lambda_l2 * qml.numpy.sum(qml.numpy.square(weights))\n",
    "    return loss + l2_term\n",
    "# Train function with validation tracking\n",
    "def train_model_regularized(dataset, epochs=20, lr=0.1, lambda_l2=0.01):\n",
    "    data = np.array([x for x, y in dataset])\n",
    "    labels = np.array([y for x, y in dataset])\n",
    "    \n",
    "    # Stratified split\n",
    "    X_train, X_val, y_train, y_val = train_test_split(data, labels, test_size=0.2, stratify=labels, random_state=42)\n",
    "    \n",
    "    weights = qml.numpy.array(np.random.randn(2), requires_grad=True) # Corrected line\n",
    "    opt = qml.GradientDescentOptimizer(stepsize=lr)\n",
    "    \n",
    "    train_losses = []\n",
    "    val_losses = []\n",
    "\n",
    "    with open(\"loss_log.csv\", \"w\", newline='') as csvfile:\n",
    "        logwriter = csv.writer(csvfile)\n",
    "        logwriter.writerow([\"Epoch\", \"Train Loss\", \"Validation Loss\"])\n",
    "        best_val_loss = float('inf')\n",
    "        best_weights = None\n",
    "        for epoch in range(epochs):\n",
    "            # one optimization step\n",
    "            weights = opt.step(lambda w: regularized_cost(w, X_train, y_train, lambda_l2), weights)\n",
    "            #Compute losses\n",
    "            train_loss = regularized_cost(weights, X_train, y_train, lambda_l2)\n",
    "            val_loss = regularized_cost(weights, X_val, y_val, lambda_l2)\n",
    "            #Checkpoint\n",
    "            if val_loss < best_val_loss:\n",
    "             best_val_loss = val_loss\n",
    "             best_weights  = weights.copy()\n",
    "            train_losses.append(train_loss)\n",
    "            val_losses.append(val_loss)\n",
    "\n",
    "            print(f\"Epoch {epoch+1:02d} | Train Loss: {train_loss:.4f} | Val Loss: {val_loss:.4f}\")\n",
    "            logwriter.writerow([epoch+1, train_loss, val_loss])\n",
    "\n",
    "    # Plotting\n",
    "    plt.plot(range(1, epochs+1), train_losses, label='Train Loss')\n",
    "    plt.plot(range(1, epochs+1), val_losses, label='Validation Loss')\n",
    "    plt.xlabel('Epoch')\n",
    "    plt.ylabel('Loss')\n",
    "    plt.title('Training vs Validation Loss')\n",
    "    plt.legend()\n",
    "    plt.grid(True)\n",
    "    plt.tight_layout()\n",
    "    plt.show()\n",
    "\n",
    "    return best_weights, train_losses, val_losses"
   ]
  },
  {
   "cell_type": "code",
   "execution_count": 35,
   "id": "acbade46-b6ec-404a-b4d8-7a373b7ca338",
   "metadata": {},
   "outputs": [
    {
     "name": "stdout",
     "output_type": "stream",
     "text": [
      "Epoch 01 | Train Loss: 1.3666 | Val Loss: 0.4346\n",
      "Epoch 02 | Train Loss: 1.3641 | Val Loss: 0.4369\n",
      "Epoch 03 | Train Loss: 1.3613 | Val Loss: 0.4391\n",
      "Epoch 04 | Train Loss: 1.3581 | Val Loss: 0.4412\n",
      "Epoch 05 | Train Loss: 1.3545 | Val Loss: 0.4432\n",
      "Epoch 06 | Train Loss: 1.3503 | Val Loss: 0.4450\n",
      "Epoch 07 | Train Loss: 1.3455 | Val Loss: 0.4465\n",
      "Epoch 08 | Train Loss: 1.3399 | Val Loss: 0.4477\n",
      "Epoch 09 | Train Loss: 1.3335 | Val Loss: 0.4484\n",
      "Epoch 10 | Train Loss: 1.3261 | Val Loss: 0.4485\n",
      "Epoch 11 | Train Loss: 1.3175 | Val Loss: 0.4479\n",
      "Epoch 12 | Train Loss: 1.3075 | Val Loss: 0.4464\n",
      "Epoch 13 | Train Loss: 1.2958 | Val Loss: 0.4437\n",
      "Epoch 14 | Train Loss: 1.2821 | Val Loss: 0.4398\n",
      "Epoch 15 | Train Loss: 1.2661 | Val Loss: 0.4342\n",
      "Epoch 16 | Train Loss: 1.2474 | Val Loss: 0.4267\n",
      "Epoch 17 | Train Loss: 1.2255 | Val Loss: 0.4171\n",
      "Epoch 18 | Train Loss: 1.2000 | Val Loss: 0.4051\n",
      "Epoch 19 | Train Loss: 1.1702 | Val Loss: 0.3905\n",
      "Epoch 20 | Train Loss: 1.1356 | Val Loss: 0.3733\n"
     ]
    },
    {
     "data": {
      "image/png": "[encoded data removed]",
      "text/plain": [
       "<Figure size 640x480 with 1 Axes>"
      ]
     },
     "metadata": {},
     "output_type": "display_data"
    }
   ],
   "source": [
    "best_weights, train_loss_hist, val_loss_hist = train_model_regularized(dataset)"
   ]
  },
  {
   "cell_type": "markdown",
   "id": "044ef1d8-5d73-46da-b065-9c48cf81448b",
   "metadata": {},
   "source": [
    " Yes — this is a perfectly expected and realistic outcome for a two-qubit model running on a classical simulator with noise and light regularization.\n",
    "\n",
    " Here's why this makes sense:\n",
    "Train loss decreases slowly: Your model is limited in expressive power (2 qubits, shallow ansatz), so it can’t easily overfit, which is good!\n",
    "\n",
    "Validation loss decreases smoothly: No overfitting observed — our regularization and early architecture choice are working.\n",
    "\n",
    "Loss values (~1.31 for training vs ~0.17 for validation) are expected with soft labels (0.9/0.1) and a noisy simulator.\n",
    "\n",
    "This is exactly the kind of stability we want before scaling to more qubits or expressive circuits.\n",
    "\n",
    "We're now in the right position to:\n",
    "\n",
    " Use best_weights to evaluate on test data\n",
    "\n",
    " Expand to more qubits (e.g., 4–8) or more complex symmetry groups\n",
    "\n",
    " Add richer input encodings (e.g., using RX, RZ, entanglement blocks)"
   ]
  },
  {
   "cell_type": "markdown",
   "id": "45bf3912-27a2-48f2-8475-d42a7fcfdcc4",
   "metadata": {},
   "source": [
    "Here's our final plug and play evaluate_model() function to test  how well our trained circuit generalizes"
   ]
  },
  {
   "cell_type": "code",
   "execution_count": 36,
   "id": "566a9984-73df-40c4-9378-871797c5f1d8",
   "metadata": {},
   "outputs": [],
   "source": [
    "from sklearn.metrics import accuracy_score, roc_auc_score, confusion_matrix\n",
    "\n",
    "def evaluate_model(weights, X_test, y_test):\n",
    "    # Run predictions\n",
    "    raw_outputs = [circuit(x, weights) for x in X_test]\n",
    "    predictions = [1 if out > 0 else 0 for out in raw_outputs]\n",
    "    \n",
    "    # Accuracy\n",
    "    acc = accuracy_score(y_test, predictions)\n",
    "    print(f\"\\n Test Accuracy: {acc:.2f}\")\n",
    "    \n",
    "    # AUC (only if both classes present)\n",
    "    if len(set(y_test)) > 1:\n",
    "        auc = roc_auc_score(y_test, raw_outputs)\n",
    "        print(f\"📈 Test AUC Score: {auc:.2f}\")\n",
    "    else:\n",
    "        print(\" AUC Score undefined (only one class in test set)\")\n",
    "    \n",
    "    # Confusion matrix\n",
    "    cm = confusion_matrix(y_test, predictions)\n",
    "    print(\"\\n Confusion Matrix:\")\n",
    "    print(cm)"
   ]
  },
  {
   "cell_type": "code",
   "execution_count": 37,
   "id": "96bce549-f107-4ff5-99e5-4fc4abe99560",
   "metadata": {
    "scrolled": true
   },
   "outputs": [
    {
     "name": "stdout",
     "output_type": "stream",
     "text": [
      "\n",
      " Test Accuracy: 0.50\n",
      "📈 Test AUC Score: 1.00\n",
      "\n",
      " Confusion Matrix:\n",
      "[[0 1]\n",
      " [0 1]]\n"
     ]
    }
   ],
   "source": [
    "X_train, X_test, y_train, y_test = train_test_split(data, labels, test_size=0.33, stratify=labels, random_state=1)\n",
    "evaluate_model(best_weights, X_test, y_test)"
   ]
  },
  {
   "cell_type": "markdown",
   "id": "4b25e1cd-5481-40bf-b0c8-ff435e4389fd",
   "metadata": {},
   "source": [
    " AUC Score: 1.00 — excellent ranking ability! Your model is confidently assigning higher outputs to the true positive class.\n",
    " Test Accuracy: 0.50 — means 1 out of 2 samples was classified correctly. Not bad for such a tiny test set.\n",
    "\n",
    "Confusion Matrix:\n",
    "[[0 1]  → actual class 0: misclassified\n",
    " [0 1]] → actual class 1: correctly classified\n",
    "This shows:\n",
    "\n",
    "The model misclassified a class 0 sample as class 1.\n",
    "\n",
    "It correctly predicted a class 1.\n",
    "\n",
    "With only 2 test samples, accuracy is not meaningful — AUC gives a better signal here.\n",
    "We’re All Set\n",
    "Your 2-qubit VQC with regularization and noisy simulation:\n",
    "Trained stably\n",
    "Avoided overfitting\n",
    "Achieved perfect AUC"
   ]
  },
  {
   "cell_type": "markdown",
   "id": "9e83655e-1c16-41dc-a960-ef8cb4b6a770",
   "metadata": {},
   "source": [
    "#Now let's do the real work of running this job on IBM Quantum Computer for my future notes, here I wanted to this in Amazon braket ionQ Quantum computer but that is a pershot paid version\n",
    "I ran  pip install pennylane pennylane-qiskit qiskit qiskit-ibm-provider  in my bash terminal"
   ]
  },
  {
   "cell_type": "code",
   "execution_count": 38,
   "id": "f3dc8488-64c2-4c94-ae32-67df9d389391",
   "metadata": {},
   "outputs": [],
   "source": [
    "# QiskitRuntimeService.save_account(...)  # token saved already\n",
    "# For reference https://docs.quantum.ibm.com/guides/setup-channel\n"
   ]
  },
  {
   "cell_type": "code",
   "execution_count": 39,
   "id": "1f415aca-3540-421f-8090-bce5b9e6174d",
   "metadata": {},
   "outputs": [
    {
     "name": "stderr",
     "output_type": "stream",
     "text": [
      "C:\\Users\\14254\\AppData\\Local\\Temp\\ipykernel_17156\\1911503042.py:2: DeprecationWarning: The package qiskit_ibm_provider is being deprecated. Please see https://docs.quantum.ibm.com/api/migration-guides/qiskit-runtime to get instructions on how to migrate to qiskit-ibm-runtime (https://github.com/Qiskit/qiskit-ibm-runtime).\n",
      "  from qiskit_ibm_provider import IBMProvider\n"
     ]
    },
    {
     "name": "stdout",
     "output_type": "stream",
     "text": [
      "ibm_brisbane | Qubits: 127\n",
      "ibm_sherbrooke | Qubits: 127\n"
     ]
    }
   ],
   "source": [
    "#Connecting IBM and List real devices\n",
    "from qiskit_ibm_provider import IBMProvider\n",
    "\n",
    "# Load your saved account\n",
    "provider = IBMProvider()\n",
    "\n",
    "# List real quantum devices (exclude simulators)\n",
    "real_backends = provider.backends(simulator=False, operational=True)\n",
    "\n",
    "# Display available devices\n",
    "for backend in real_backends:\n",
    "    print(f\"{backend.name} | Qubits: {backend.configuration().num_qubits}\")\n"
   ]
  },
  {
   "cell_type": "code",
   "execution_count": 54,
   "id": "d08a3801-5d95-4566-83f3-f2a81a88ffa0",
   "metadata": {},
   "outputs": [
    {
     "name": "stdout",
     "output_type": "stream",
     "text": [
      "['AerDevice', 'BasicSimulatorDevice', 'RemoteDevice', '__builtins__', '__cached__', '__doc__', '__file__', '__loader__', '__name__', '__package__', '__path__', '__spec__', '__version__', '_version', 'aer', 'basic_sim', 'converter', 'load', 'load_noise_model', 'load_pauli_op', 'load_qasm', 'load_qasm_from_file', 'noise_models', 'qiskit_device', 'qiskit_device_legacy', 'qiskit_session', 'remote']\n"
     ]
    }
   ],
   "source": [
    "import pennylane_qiskit\n",
    "import pennylane as qml\n",
    "from pennylane_qiskit.qiskit_device import QiskitDevice\n",
    "from qiskit_ibm_provider import IBMProvider\n",
    "print(dir(pennylane_qiskit))"
   ]
  },
  {
   "cell_type": "code",
   "execution_count": 55,
   "id": "ab754a6c-67a9-4d46-8a34-42a0b19f3dd1",
   "metadata": {},
   "outputs": [],
   "source": [
    "dev = qml.device(\"qiskit.aer\", wires=2, shots=1024)"
   ]
  },
  {
   "cell_type": "markdown",
   "id": "49c61832-69e5-490c-ab70-32754cd7f3df",
   "metadata": {},
   "source": [
    "Above code ran successfully for a Quantum Simulator not on a real quantum computer, so we will have to rebuild all the code again in Qiskit for IBM Brisbane hardware and for now lets do plot the output"
   ]
  },
  {
   "cell_type": "code",
   "execution_count": 57,
   "id": "186b9f81-d65c-4e3c-82f2-3ef3cf183f49",
   "metadata": {},
   "outputs": [],
   "source": [
    "#Define the circuit as below"
   ]
  },
  {
   "cell_type": "code",
   "execution_count": 56,
   "id": "41db81b5-6db7-49f9-adf7-e250841d0062",
   "metadata": {},
   "outputs": [],
   "source": [
    "@qml.qnode(dev)\n",
    "def circuit(x, weights):\n",
    "    qml.RY(x[0], wires=0)\n",
    "    qml.RY(x[1], wires=1)\n",
    "    qml.CNOT(wires=[0, 1])\n",
    "    qml.RY(weights[0], wires=0)\n",
    "    qml.RY(weights[1], wires=1)\n",
    "    return qml.expval(qml.PauliZ(0))  # compatible with Aer shots-based backends"
   ]
  },
  {
   "cell_type": "code",
   "execution_count": 58,
   "id": "2f903296-2633-4b29-b9f6-40f8142439cb",
   "metadata": {},
   "outputs": [
    {
     "data": {
      "image/png": "[encoded data removed]",
      "text/plain": [
       "<Figure size 1000x400 with 1 Axes>"
      ]
     },
     "metadata": {},
     "output_type": "display_data"
    }
   ],
   "source": [
    "import matplotlib.pyplot as plt\n",
    "import numpy as np\n",
    "\n",
    "# Reuse the best weights from training\n",
    "results = []\n",
    "inputs = []\n",
    "\n",
    "for x, y in dataset:\n",
    "    out = circuit(x, best_weights)\n",
    "    results.append(out)\n",
    "    inputs.append(f\"{x}\")\n",
    "\n",
    "# Plotting\n",
    "plt.figure(figsize=(10, 4))\n",
    "plt.bar(inputs, results)\n",
    "plt.axhline(0, color='gray', linestyle='--')\n",
    "plt.xticks(rotation=45)\n",
    "plt.ylabel(\"⟨Z⟩ Expectation\")\n",
    "plt.title(\"2-Qubit Classifier Outputs on Qiskit Aer\")\n",
    "plt.grid(axis='y')\n",
    "plt.tight_layout()\n",
    "plt.show()"
   ]
  },
  {
   "cell_type": "code",
   "execution_count": null,
   "id": "4eb11ce5-1a59-445a-a1cd-595692785249",
   "metadata": {},
   "outputs": [],
   "source": []
  }
 ],
 "metadata": {
  "kernelspec": {
   "display_name": "Python 3 (ipykernel)",
   "language": "python",
   "name": "python3"
  },
  "language_info": {
   "codemirror_mode": {
    "name": "ipython",
    "version": 3
   },
   "file_extension": ".py",
   "mimetype": "text/x-python",
   "name": "python",
   "nbconvert_exporter": "python",
   "pygments_lexer": "ipython3",
   "version": "3.10.16"
  }
 },
 "nbformat": 4,
 "nbformat_minor": 5
}
